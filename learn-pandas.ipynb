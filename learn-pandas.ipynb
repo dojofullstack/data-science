{
 "cells": [
  {
   "cell_type": "code",
   "execution_count": null,
   "id": "ec52998e",
   "metadata": {},
   "outputs": [
    {
     "name": "stdout",
     "output_type": "stream",
     "text": [
      "<class 'pandas.core.frame.DataFrame'>\n",
      "Index: 4 entries, 0 to 3\n",
      "Data columns (total 4 columns):\n",
      " #   Column   Non-Null Count  Dtype \n",
      "---  ------   --------------  ----- \n",
      " 0   Nombre   4 non-null      object\n",
      " 1   Edad     4 non-null      int64 \n",
      " 2   Ciudad   4 non-null      object\n",
      " 3   Salario  4 non-null      int64 \n",
      "dtypes: int64(2), object(2)\n",
      "memory usage: 160.0+ bytes\n"
     ]
    },
    {
     "data": {
      "text/html": [
       "<div>\n",
       "<style scoped>\n",
       "    .dataframe tbody tr th:only-of-type {\n",
       "        vertical-align: middle;\n",
       "    }\n",
       "\n",
       "    .dataframe tbody tr th {\n",
       "        vertical-align: top;\n",
       "    }\n",
       "\n",
       "    .dataframe thead th {\n",
       "        text-align: right;\n",
       "    }\n",
       "</style>\n",
       "<table border=\"1\" class=\"dataframe\">\n",
       "  <thead>\n",
       "    <tr style=\"text-align: right;\">\n",
       "      <th></th>\n",
       "      <th>Nombre</th>\n",
       "      <th>Edad</th>\n",
       "      <th>Ciudad</th>\n",
       "      <th>Salario</th>\n",
       "    </tr>\n",
       "  </thead>\n",
       "  <tbody>\n",
       "    <tr>\n",
       "      <th>0</th>\n",
       "      <td>Alice</td>\n",
       "      <td>25</td>\n",
       "      <td>New York</td>\n",
       "      <td>70000</td>\n",
       "    </tr>\n",
       "    <tr>\n",
       "      <th>1</th>\n",
       "      <td>Bob</td>\n",
       "      <td>30</td>\n",
       "      <td>Los Angeles</td>\n",
       "      <td>80000</td>\n",
       "    </tr>\n",
       "    <tr>\n",
       "      <th>2</th>\n",
       "      <td>Charlie</td>\n",
       "      <td>35</td>\n",
       "      <td>Chicago</td>\n",
       "      <td>90000</td>\n",
       "    </tr>\n",
       "    <tr>\n",
       "      <th>3</th>\n",
       "      <td>David</td>\n",
       "      <td>40</td>\n",
       "      <td>Chicago</td>\n",
       "      <td>100000</td>\n",
       "    </tr>\n",
       "  </tbody>\n",
       "</table>\n",
       "</div>"
      ],
      "text/plain": [
       "    Nombre  Edad       Ciudad  Salario\n",
       "0    Alice    25     New York    70000\n",
       "1      Bob    30  Los Angeles    80000\n",
       "2  Charlie    35      Chicago    90000\n",
       "3    David    40      Chicago   100000"
      ]
     },
     "execution_count": 79,
     "metadata": {},
     "output_type": "execute_result"
    }
   ],
   "source": [
    "import pandas as pd\n",
    "\n",
    "data = {\n",
    "    \"Nombre\": [\"Alice\", \"Bob\", \"Charlie\", \"David\", \"David\"],\n",
    "    \"Edad\": [25, 30, 35, 40, 40],\n",
    "    \"Ciudad\": [\"New York\", \"Los Angeles\", \"Chicago\", \"Chicago\", \"Chicago\"],\n",
    "    \"Salario\": [70000, 80000, 90000, 100000, 100000]\n",
    "}\n",
    "\n",
    "df = pd.DataFrame(data)\n",
    "#print(df)\n",
    "\n",
    "# obtener la primera fila del DataFrame\n",
    "df.head()\n",
    "\n",
    "# obtener las dimensiones del DataFrame (filas x columnas)\n",
    "df.shape\n",
    "\n",
    "# obtener el numero de columnas\n",
    "df.columns\n",
    "\n",
    "# obtener los tipos\n",
    "df.dtypes\n",
    "\n",
    "df = df.drop_duplicates()\n",
    "\n",
    "# obtener un resumen del df\n",
    "df.info()\n",
    "\n",
    "df.head()\n",
    "\n",
    "\n"
   ]
  },
  {
   "cell_type": "code",
   "execution_count": null,
   "id": "80b9a93d",
   "metadata": {},
   "outputs": [],
   "source": []
  },
  {
   "cell_type": "code",
   "execution_count": 33,
   "id": "87e82d52",
   "metadata": {
    "vscode": {
     "languageId": "markdown"
    }
   },
   "outputs": [
    {
     "data": {
      "text/html": [
       "<div>\n",
       "<style scoped>\n",
       "    .dataframe tbody tr th:only-of-type {\n",
       "        vertical-align: middle;\n",
       "    }\n",
       "\n",
       "    .dataframe tbody tr th {\n",
       "        vertical-align: top;\n",
       "    }\n",
       "\n",
       "    .dataframe thead th {\n",
       "        text-align: right;\n",
       "    }\n",
       "</style>\n",
       "<table border=\"1\" class=\"dataframe\">\n",
       "  <thead>\n",
       "    <tr style=\"text-align: right;\">\n",
       "      <th></th>\n",
       "      <th>Nombre</th>\n",
       "      <th>Edad</th>\n",
       "      <th>Ciudad</th>\n",
       "      <th>Salario</th>\n",
       "    </tr>\n",
       "  </thead>\n",
       "  <tbody>\n",
       "    <tr>\n",
       "      <th>1</th>\n",
       "      <td>Bob</td>\n",
       "      <td>30</td>\n",
       "      <td>Los Angeles</td>\n",
       "      <td>80000</td>\n",
       "    </tr>\n",
       "  </tbody>\n",
       "</table>\n",
       "</div>"
      ],
      "text/plain": [
       "  Nombre  Edad       Ciudad  Salario\n",
       "1    Bob    30  Los Angeles    80000"
      ]
     },
     "execution_count": 33,
     "metadata": {},
     "output_type": "execute_result"
    }
   ],
   "source": [
    "\n",
    "# trabajar con el dataframe\n",
    "\n",
    "df[\"Ciudad\"]\n",
    "\n",
    "df[[\"Ciudad\", \"Salario\"]]\n",
    "\n",
    "# filtra por condiciones\n",
    "df[ df[\"Salario\"] >= 100000 ]\n",
    "\n",
    "df[ df[\"Ciudad\"] == \"Chicago\" ]\n",
    "\n",
    "\n",
    "df[ (df[\"Salario\"] >= 80000) &  (df[\"Ciudad\"] == \"Los Angeles\")  ]"
   ]
  },
  {
   "cell_type": "code",
   "execution_count": 40,
   "id": "71b0732b",
   "metadata": {
    "vscode": {
     "languageId": "markdown"
    }
   },
   "outputs": [
    {
     "name": "stdout",
     "output_type": "stream",
     "text": [
      "<class 'pandas.core.frame.DataFrame'>\n",
      "RangeIndex: 4 entries, 0 to 3\n",
      "Data columns (total 5 columns):\n",
      " #   Column           Non-Null Count  Dtype  \n",
      "---  ------           --------------  -----  \n",
      " 0   Nombre           4 non-null      object \n",
      " 1   Edad             4 non-null      int64  \n",
      " 2   Ciudad           4 non-null      object \n",
      " 3   Salario          4 non-null      int64  \n",
      " 4   Salario Mensual  4 non-null      float64\n",
      "dtypes: float64(1), int64(2), object(2)\n",
      "memory usage: 288.0+ bytes\n"
     ]
    },
    {
     "data": {
      "text/plain": [
       "0    5833\n",
       "1    6666\n",
       "2    7500\n",
       "3    8333\n",
       "Name: Salario Mensual, dtype: int64"
      ]
     },
     "execution_count": 40,
     "metadata": {},
     "output_type": "execute_result"
    }
   ],
   "source": [
    "# crear columnas\n",
    "\n",
    "df[\"Salario Mensual\"] = df[\"Salario\"] / 12\n",
    "\n",
    "df.info()\n",
    "df[\"Salario Mensual\"]\n",
    "\n",
    "df[\"Salario Mensual\"].mean()\n",
    "\n",
    "df[\"Salario Mensual\"] = df[\"Salario Mensual\"].astype(int)\n",
    "df[\"Salario Mensual\"]"
   ]
  },
  {
   "cell_type": "code",
   "execution_count": null,
   "id": "8667d11e",
   "metadata": {
    "vscode": {
     "languageId": "markdown"
    }
   },
   "outputs": [],
   "source": [
    "# guardar o exportar mi dataframe\n",
    "df.to_csv(\"new_dataframe.csv\")"
   ]
  },
  {
   "cell_type": "code",
   "execution_count": 91,
   "id": "17c483de",
   "metadata": {
    "vscode": {
     "languageId": "markdown"
    }
   },
   "outputs": [
    {
     "name": "stdout",
     "output_type": "stream",
     "text": [
      "<class 'pandas.core.frame.DataFrame'>\n",
      "Index: 2584 entries, 0 to 3754\n",
      "Data columns (total 11 columns):\n",
      " #   Column              Non-Null Count  Dtype \n",
      "---  ------              --------------  ----- \n",
      " 0   work_year           2584 non-null   int64 \n",
      " 1   experience_level    2584 non-null   object\n",
      " 2   employment_type     2584 non-null   object\n",
      " 3   job_title           2584 non-null   object\n",
      " 4   salary              2584 non-null   int64 \n",
      " 5   salary_currency     2584 non-null   object\n",
      " 6   salary_in_usd       2584 non-null   int64 \n",
      " 7   employee_residence  2584 non-null   object\n",
      " 8   remote_ratio        2584 non-null   int64 \n",
      " 9   company_location    2584 non-null   object\n",
      " 10  company_size        2584 non-null   object\n",
      "dtypes: int64(4), object(7)\n",
      "memory usage: 242.2+ KB\n"
     ]
    }
   ],
   "source": [
    "# Cargar o importar dataframe  \n",
    "df_salary = pd.read_csv(\"data/ds_salaries.csv\")\n",
    "\n",
    "#df_salary.head()\n",
    "#df_salary.info()\n",
    "\n",
    "#df_salary[\"salary_in_usd\"]\n",
    "\n",
    "df_salary = df_salary.drop_duplicates()\n",
    "df_salary.info()\n",
    "\n"
   ]
  },
  {
   "cell_type": "code",
   "execution_count": null,
   "id": "c21ae072",
   "metadata": {
    "vscode": {
     "languageId": "markdown"
    }
   },
   "outputs": [
    {
     "name": "stdout",
     "output_type": "stream",
     "text": [
      "<class 'pandas.core.frame.DataFrame'>\n",
      "RangeIndex: 3755 entries, 0 to 3754\n",
      "Data columns (total 12 columns):\n",
      " #   Column              Non-Null Count  Dtype \n",
      "---  ------              --------------  ----- \n",
      " 0   work_year           3755 non-null   int64 \n",
      " 1   experience_level    3755 non-null   object\n",
      " 2   employment_type     3755 non-null   object\n",
      " 3   job_title           3755 non-null   object\n",
      " 4   salary              3755 non-null   int64 \n",
      " 5   salary_currency     3755 non-null   object\n",
      " 6   salary_in_usd       3755 non-null   int64 \n",
      " 7   employee_residence  3755 non-null   object\n",
      " 8   remote_ratio        3755 non-null   int64 \n",
      " 9   company_location    3755 non-null   object\n",
      " 10  company_size        3755 non-null   object\n",
      " 11  job_title_clean     3755 non-null   object\n",
      "dtypes: int64(4), object(8)\n",
      "memory usage: 352.2+ KB\n"
     ]
    },
    {
     "data": {
      "text/plain": [
       "0              data scientist\n",
       "1                 ml engineer\n",
       "2                 ml engineer\n",
       "3              data scientist\n",
       "4              data scientist\n",
       "                ...          \n",
       "3750           data scientist\n",
       "3751           data scientist\n",
       "3752           data scientist\n",
       "3753    business data analyst\n",
       "3754     data science manager\n",
       "Name: job_title_clean, Length: 3755, dtype: object"
      ]
     },
     "execution_count": 57,
     "metadata": {},
     "output_type": "execute_result"
    }
   ],
   "source": [
    "df_salary[\"job_title\"]\n",
    "\n",
    "df_salary[\"job_title_clean\"] =  df_salary[\"job_title\"].str.lower().str.replace(\"Lead\", \"\").str.strip().str.replace(\"principal\", \"\")\n",
    "\n",
    "df_salary[\"job_title_clean\"]\n",
    "\n",
    "df_salary.info()\n",
    "\n",
    "df_salary[\"job_title_clean\"]"
   ]
  }
 ],
 "metadata": {
  "kernelspec": {
   "display_name": "env",
   "language": "python",
   "name": "python3"
  },
  "language_info": {
   "codemirror_mode": {
    "name": "ipython",
    "version": 3
   },
   "file_extension": ".py",
   "mimetype": "text/x-python",
   "name": "python",
   "nbconvert_exporter": "python",
   "pygments_lexer": "ipython3",
   "version": "3.10.12"
  }
 },
 "nbformat": 4,
 "nbformat_minor": 5
}
