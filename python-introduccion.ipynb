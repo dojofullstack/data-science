{
 "cells": [
  {
   "cell_type": "code",
   "execution_count": 12,
   "id": "764f587a-c89a-426d-a6db-16719e846402",
   "metadata": {},
   "outputs": [
    {
     "name": "stdout",
     "output_type": "stream",
     "text": [
      "henry\n",
      "henry@gmail.com\n",
      "******\n"
     ]
    }
   ],
   "source": [
    "user = \"henry\"\n",
    "email = \"henry@gmail.com\"\n",
    "password = \"******\"\n",
    "m0d3l_1 = \"chatgpt-3\"\n",
    "training_epoch = 100\n",
    "\n",
    "print(user)\n",
    "print(email)\n",
    "print(password)"
   ]
  },
  {
   "cell_type": "code",
   "execution_count": 8,
   "id": "4ac49288-0050-49aa-8838-fb2d3834a581",
   "metadata": {},
   "outputs": [
    {
     "data": {
      "text/plain": [
       "' esto es un comentario\\n    de multiples lineas\\n    Genio!!  '"
      ]
     },
     "execution_count": 8,
     "metadata": {},
     "output_type": "execute_result"
    }
   ],
   "source": [
    "# esta linea es un comentario\n",
    "\"\"\" esto es un comentario\n",
    "    de multiples lineas\n",
    "    Genio!!  \"\"\""
   ]
  },
  {
   "cell_type": "code",
   "execution_count": 23,
   "id": "8d0aa2f9-342f-4d62-999f-88e26aec7e57",
   "metadata": {},
   "outputs": [
    {
     "name": "stdout",
     "output_type": "stream",
     "text": [
      "Carlos Perez\n",
      "Miami, Florida Florida 1212\n"
     ]
    },
    {
     "data": {
      "text/plain": [
       "12"
      ]
     },
     "execution_count": 23,
     "metadata": {},
     "output_type": "execute_result"
    }
   ],
   "source": [
    "#TIPOS DE DATOS\n",
    "\n",
    "\"\"\"\n",
    "    - String\n",
    "    - Numerales\n",
    "    - Booleanos\n",
    "    - Listas (Object)\n",
    "    - Dict (Object)\n",
    "    - Set\n",
    "    - Tuples\n",
    "    - Function\n",
    "\"\"\"\n",
    "\n",
    "\n",
    "# Tipos de dato String\n",
    "username = \"Carlos Perez\"\n",
    "address = \"Miami, Florida Florida 1212\"\n",
    "\n",
    "print(username)\n",
    "print(address)\n",
    "\n",
    "address.find(\"1212\")\n",
    "username.find(\"Perez\")\n",
    "\n",
    "dir(username)\n",
    "\n",
    "type(username)\n",
    "type(address)\n",
    "len(username)"
   ]
  },
  {
   "cell_type": "code",
   "execution_count": 56,
   "id": "a19543e2-3902-4295-bd21-f70990605885",
   "metadata": {},
   "outputs": [
    {
     "data": {
      "text/plain": [
       "'Entrenando modelo claude_Opus y aplicando FineTunning model_0121_finetuning'"
      ]
     },
     "execution_count": 56,
     "metadata": {},
     "output_type": "execute_result"
    }
   ],
   "source": [
    "address.count(\"Florida\")\n",
    "\n",
    "username.isalpha()\n",
    "\n",
    "username.lower()\n",
    "username.upper()\n",
    "\n",
    "#\"Entrenando modelo {0} y aplicando FineTunning {1}\".format(\"claude_Opus\", \"model_0121_finetuning\")\n",
    "\n",
    "model_traing = \"claude_Opus\"\n",
    "model_finetunning = \"model_0121_finetuning\"\n",
    "\n",
    "f\"Entrenando modelo {model_traing} y aplicando FineTunning {model_finetunning}\""
   ]
  },
  {
   "cell_type": "code",
   "execution_count": 54,
   "id": "7e7f99be-1dae-4f88-bd11-f58f3396e21b",
   "metadata": {},
   "outputs": [
    {
     "name": "stdout",
     "output_type": "stream",
     "text": [
      " \n",
      "  Florida \n",
      " California  \n",
      " \n"
     ]
    },
    {
     "data": {
      "text/plain": [
       "['carlos', 'gmail.com']"
      ]
     },
     "execution_count": 54,
     "metadata": {},
     "output_type": "execute_result"
    }
   ],
   "source": [
    "address.replace(\"Florida\", \"California\")\n",
    "new_adress = \" \\n  Florida \\n California  \\n \"\n",
    "print(new_adress)\n",
    "address.strip(new_adress)\n",
    "\n",
    "address.split(\" \")\n",
    "\n",
    "email_primary = \"carlos@gmail.com\"\n",
    "email_primary.split(\"@\")"
   ]
  },
  {
   "cell_type": "code",
   "execution_count": 61,
   "id": "ed183d2c-f07e-44b5-8011-79174c611ab0",
   "metadata": {},
   "outputs": [
    {
     "name": "stdout",
     "output_type": "stream",
     "text": [
      "True\n",
      "False\n"
     ]
    }
   ],
   "source": [
    "# Tipo de dato Booleano\n",
    "\n",
    "new_user = True\n",
    "training_completed = False\n",
    "\n",
    "print(new_user)\n",
    "print(training_completed)\n",
    "\n",
    "type(new_user)\n",
    "type(training_completed)\n",
    "\n",
    "is_login = True\n"
   ]
  },
  {
   "cell_type": "code",
   "execution_count": 5,
   "id": "5d8058c1-3622-4f87-bb44-aa25d54ca7b5",
   "metadata": {},
   "outputs": [
    {
     "name": "stdout",
     "output_type": "stream",
     "text": [
      "9\n",
      "13.5\n",
      "<class 'int'>\n",
      "<class 'float'>\n",
      "20\n"
     ]
    }
   ],
   "source": [
    "price = 9\n",
    "puntaje = 13.5\n",
    "\n",
    "print(price)\n",
    "print(puntaje)\n",
    "\n",
    "print(type(price))\n",
    "print(type(puntaje))\n",
    "\n",
    "price = price + 3\n",
    "puntaje = puntaje - 1\n",
    "puntaje = puntaje * 3\n",
    "puntaje = puntaje / 2\n",
    "\n",
    "######\n",
    "puntaje += 3\n",
    "price += 8\n",
    "puntaje -= 3\n",
    "puntaje *= 3\n",
    "puntaje /= 3\n",
    "\n",
    "print(price)\n"
   ]
  },
  {
   "cell_type": "code",
   "execution_count": 32,
   "id": "bcd7b237-d43b-4b9d-9f4b-0c852b8e4d3f",
   "metadata": {},
   "outputs": [
    {
     "name": "stdout",
     "output_type": "stream",
     "text": [
      "['fresas', 'manzanas', 'uvas', 'naranjas']\n",
      "['fresas', 'manzanas', 'uvas', 'naranjas', 'kiwi', 'banana']\n",
      "['fresas', 'manzanas', 'uvas', 'naranjas', 'kiwi', 'banana', 'cerezas', 'melon']\n",
      "['fresas', 'manzanas', 'uvas', 'naranjas', 'kiwi', 'banana', 'cerezas']\n",
      "['fresas', 'manzanas', 'naranjas', 'kiwi', 'banana', 'cerezas']\n",
      "['fresas', 'manzanas', 'naranjas', 'cerezas']\n",
      "['fresas', 'manzanas', 'mandarinas', 'naranjas', 'cerezas']\n"
     ]
    },
    {
     "data": {
      "text/plain": [
       "['cerezas', 'fresas', 'mandarinas', 'manzanas', 'naranjas']"
      ]
     },
     "execution_count": 32,
     "metadata": {},
     "output_type": "execute_result"
    }
   ],
   "source": [
    "frutas = [ \"fresas\", \"manzanas\", \"uvas\", \"naranjas\"  ]\n",
    "\n",
    "print(frutas)\n",
    "type(frutas)\n",
    "\n",
    "dir(frutas)\n",
    "\n",
    "frutas.append(\"kiwi\")\n",
    "frutas.append(\"banana\")\n",
    "\n",
    "print(frutas)\n",
    "\n",
    "frutas.extend([\"cerezas\", \"melon\"])\n",
    "print(frutas)\n",
    "\n",
    "frutas.pop()\n",
    "print(frutas)\n",
    "\n",
    "frutas.pop(2)\n",
    "\n",
    "print(frutas)\n",
    "\n",
    "frutas.remove(\"kiwi\")\n",
    "\n",
    "frutas.remove(\"banana\")\n",
    "print(frutas)\n",
    "\n",
    "frutas[-1]\n",
    "\n",
    "len(frutas)\n",
    "\n",
    "dir(frutas)\n",
    "\n",
    "frutas.insert(2, \"mandarinas\")\n",
    "print(frutas)\n",
    "\n",
    "frutas.sort()\n",
    "frutas"
   ]
  },
  {
   "cell_type": "code",
   "execution_count": 94,
   "id": "3c1a5444-4771-4b25-8b44-5ecb61387a0e",
   "metadata": {},
   "outputs": [
    {
     "name": "stdout",
     "output_type": "stream",
     "text": [
      "{'nombre': 'Carlos', 'edad': 28, 'direccion': 'Calle las almendras 121', 'is_mantrimonio': False, 'pasatiempos': ['guitarra', 'surfear']}\n",
      "Carlos\n",
      "Calle las almendras 121\n",
      "['guitarra', 'surfear']\n",
      "\n",
      "{'nombre': 'Carlos Perez', 'direccion': 'Calle las almendras 121', 'is_mantrimonio': False, 'pasatiempos': ['guitarra', 'surfear'], 'Documento_ID': '0129901', 'genero': 'M', 'Segundo NOmbre': 'Jose'}\n",
      "{'nombre': 'Carlos Perez', 'direccion': 'Calle las almendras 121', 'is_mantrimonio': False, 'pasatiempos': ['guitarra', 'surfear'], 'Documento_ID': '0129901', 'genero': 'M', 'Segundo NOmbre': 'Jose', 'balance_bancario': 100}\n",
      "{'nombre': 'Carlos Perez', 'direccion': 'Calle las almendras 121', 'is_mantrimonio': False, 'pasatiempos': ['guitarra', 'surfear'], 'Documento_ID': '0129901', 'genero': 'M', 'Segundo NOmbre': 'Jose', 'balance_bancario': 100}\n"
     ]
    }
   ],
   "source": [
    "usuario = {\n",
    "    \"nombre\": \"Carlos\",\n",
    "    \"edad\": 28,\n",
    "    \"direccion\": \"Calle las almendras 121\",\n",
    "    \"is_mantrimonio\": False,\n",
    "    \"pasatiempos\": [\"guitarra\", \"surfear\"],\n",
    "}\n",
    "\n",
    "print(usuario)\n",
    "type(usuario)\n",
    "len(usuario)\n",
    "\n",
    "\n",
    "\n",
    "print(usuario.get(\"nombre\"))\n",
    "print(usuario.get(\"direccion\"))\n",
    "print(usuario.get(\"pasatiempos\"))\n",
    "print(usuario.get(\"apellido\", \"\"))\n",
    "#usuario[\"apellido\"]\n",
    "\n",
    "# actualizar una propieda\n",
    "usuario[\"nombre\"] = \"Carlos Perez\"\n",
    "\n",
    "usuario[\"Documento_ID\"] = \"0129901\"\n",
    "usuario[\"genero\"] = \"M\"\n",
    "usuario\n",
    "\n",
    "dir(usuario)\n",
    "\n",
    "usuario.update({ \"Segundo NOmbre\": \"Jose\",  \"email\": \"carlos@gmail.com\"})\n",
    "\n",
    "usuario.pop(\"edad\")\n",
    "usuario.pop(\"email\")\n",
    "\n",
    "#del usuario[\"genero\"]\n",
    "\n",
    "#usuario.clear()\n",
    "dir(usuario)\n",
    "\n",
    "usurio_new = usuario.copy()\n",
    "print(usurio_new)\n",
    "\n",
    "usurio_new[\"balance_bancario\"] = 100\n",
    "usuario[\"balance_bancario\"] = 100\n",
    "\n",
    "print(usuario)\n",
    "print(usurio_new)"
   ]
  },
  {
   "cell_type": "code",
   "execution_count": 92,
   "id": "a4697a81-fadf-418b-985a-49fecb3c2805",
   "metadata": {},
   "outputs": [
    {
     "name": "stdout",
     "output_type": "stream",
     "text": [
      "{'modelo_chagpt3', 'modelo_chagpt4', 'modelo_claudeOPUS'}\n",
      "{'modelo_chagpt3', 'modelo_chagpt4', 'modelo_claudeOPUS'}\n",
      "{'modelo_chagpt3', 'modelo_chagpt4', 'modelo_claudeOPUS'}\n",
      "{'modelo_gemini', 'modelo_chagpt3', 'modelo_chagpt4'}\n"
     ]
    }
   ],
   "source": [
    "## TIPO DE DATO SET.\n",
    "\n",
    "modelos_LLM = {\"modelo_chagpt3\", \"modelo_chagpt3\", \"modelo_chagpt4\", \"modelo_claudeOPUS\" }\n",
    "\n",
    "print(modelos_LLM)\n",
    "print(modelos_LLM)\n",
    "print(modelos_LLM)\n",
    "\n",
    "dir(modelos_LLM)\n",
    "\n",
    "modelos_LLM.add(\"modelo_gemini\")\n",
    "\n",
    "#modelos_LLM.remove(\"modelo_claudeOPUS2\")\n",
    "#modelos_LLM.discard(\"modelo_claudeOPUS\")\n",
    "\n",
    "modelos_LLM\n",
    "\n",
    "# concatenar conjuntos\n",
    "\n",
    "modelos_llm_2026 = {\"modelo_llama4\", \"modelo_deepseek\", \"modelo_claudeOPUS\" } \n",
    "\n",
    "#print(modelos_LLM)\n",
    "modelo_LLM_fusion =  modelos_LLM.union(modelos_llm_2026)\n",
    "\n",
    "#print(modelo_LLM_fusion)\n",
    "\n",
    "modelos_LLM.update(modelos_llm_2026)\n",
    "modelos_LLM\n",
    "\n",
    "print(modelos_LLM - modelos_llm_2026)"
   ]
  },
  {
   "cell_type": "code",
   "execution_count": 102,
   "id": "8d6e7c92-7e76-4c5e-a13b-3cb6a980ff40",
   "metadata": {},
   "outputs": [
    {
     "name": "stdout",
     "output_type": "stream",
     "text": [
      "('china', 'rusia', 'arabia', 'paises bajos')\n"
     ]
    },
    {
     "data": {
      "text/plain": [
       "('inglaterra', 'alemania')"
      ]
     },
     "execution_count": 102,
     "metadata": {},
     "output_type": "execute_result"
    }
   ],
   "source": [
    "# tipo de datos Tuple\n",
    "\n",
    "countries_blackList = (\"china\", \"rusia\", \"arabia\", \"paises bajos\" )\n",
    "\n",
    "print(countries_blackList)\n",
    "type(countries_blackList)\n",
    "\n",
    "countries_blackList[0]\n",
    "#countries_blackList[0] = \"espana\"\n",
    "\n",
    "countries_blackList = (\"inglaterra\", \"alemania\")\n",
    "\n",
    "countries_blackList"
   ]
  },
  {
   "cell_type": "code",
   "execution_count": 111,
   "id": "727683a4-801b-45bb-9cfe-4b4def1bd17f",
   "metadata": {},
   "outputs": [
    {
     "name": "stdout",
     "output_type": "stream",
     "text": [
      "hola mundo\n",
      "Juan\n",
      "None\n"
     ]
    }
   ],
   "source": [
    "## Function\n",
    "\n",
    "def name_function():\n",
    "    print(\"hola mundo\")\n",
    "    name = \"Juan\"\n",
    "    print(name)\n",
    "\n",
    "\n",
    "\n",
    "nombre_fuccion = name_function\n",
    "\n",
    "print(nombre_fuccion() )"
   ]
  },
  {
   "cell_type": "code",
   "execution_count": null,
   "id": "15793cc2-0780-4d10-a54b-850377945b83",
   "metadata": {},
   "outputs": [],
   "source": []
  }
 ],
 "metadata": {
  "kernelspec": {
   "display_name": "Python 3 (ipykernel)",
   "language": "python",
   "name": "python3"
  },
  "language_info": {
   "codemirror_mode": {
    "name": "ipython",
    "version": 3
   },
   "file_extension": ".py",
   "mimetype": "text/x-python",
   "name": "python",
   "nbconvert_exporter": "python",
   "pygments_lexer": "ipython3",
   "version": "3.10.12"
  }
 },
 "nbformat": 4,
 "nbformat_minor": 5
}
