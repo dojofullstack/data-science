{
 "cells": [
  {
   "cell_type": "code",
   "execution_count": 12,
   "id": "764f587a-c89a-426d-a6db-16719e846402",
   "metadata": {},
   "outputs": [
    {
     "name": "stdout",
     "output_type": "stream",
     "text": [
      "henry\n",
      "henry@gmail.com\n",
      "******\n"
     ]
    }
   ],
   "source": [
    "user = \"henry\"\n",
    "email = \"henry@gmail.com\"\n",
    "password = \"******\"\n",
    "m0d3l_1 = \"chatgpt-3\"\n",
    "training_epoch = 100\n",
    "\n",
    "print(user)\n",
    "print(email)\n",
    "print(password)"
   ]
  },
  {
   "cell_type": "code",
   "execution_count": 8,
   "id": "4ac49288-0050-49aa-8838-fb2d3834a581",
   "metadata": {},
   "outputs": [
    {
     "data": {
      "text/plain": [
       "' esto es un comentario\\n    de multiples lineas\\n    Genio!!  '"
      ]
     },
     "execution_count": 8,
     "metadata": {},
     "output_type": "execute_result"
    }
   ],
   "source": [
    "# esta linea es un comentario\n",
    "\"\"\" esto es un comentario\n",
    "    de multiples lineas\n",
    "    Genio!!  \"\"\""
   ]
  },
  {
   "cell_type": "code",
   "execution_count": 55,
   "id": "8d0aa2f9-342f-4d62-999f-88e26aec7e57",
   "metadata": {},
   "outputs": [
    {
     "name": "stdout",
     "output_type": "stream",
     "text": [
      "Carlos Perez\n",
      "Miami, Florida Florida 1212\n"
     ]
    },
    {
     "data": {
      "text/plain": [
       "str"
      ]
     },
     "execution_count": 55,
     "metadata": {},
     "output_type": "execute_result"
    }
   ],
   "source": [
    "#TIPOS DE DATOS\n",
    "\n",
    "\"\"\"\n",
    "    - String\n",
    "    - Numerales\n",
    "    - Booleanos\n",
    "    - Listas\n",
    "    - Dict\n",
    "    - Set\n",
    "    - Tuples\n",
    "    - Object\n",
    "    - Function\n",
    "\"\"\"\n",
    "\n",
    "\n",
    "# Tipos de dato String\n",
    "username = \"Carlos Perez\"\n",
    "address = \"Miami, Florida Florida 1212\"\n",
    "\n",
    "print(username)\n",
    "print(address)\n",
    "\n",
    "address.find(\"1212\")\n",
    "username.find(\"Perez\")\n",
    "\n",
    "dir(username)\n",
    "\n",
    "type(username)\n",
    "type(address)\n"
   ]
  },
  {
   "cell_type": "code",
   "execution_count": 56,
   "id": "a19543e2-3902-4295-bd21-f70990605885",
   "metadata": {},
   "outputs": [
    {
     "data": {
      "text/plain": [
       "'Entrenando modelo claude_Opus y aplicando FineTunning model_0121_finetuning'"
      ]
     },
     "execution_count": 56,
     "metadata": {},
     "output_type": "execute_result"
    }
   ],
   "source": [
    "address.count(\"Florida\")\n",
    "\n",
    "username.isalpha()\n",
    "\n",
    "username.lower()\n",
    "username.upper()\n",
    "\n",
    "#\"Entrenando modelo {0} y aplicando FineTunning {1}\".format(\"claude_Opus\", \"model_0121_finetuning\")\n",
    "\n",
    "model_traing = \"claude_Opus\"\n",
    "model_finetunning = \"model_0121_finetuning\"\n",
    "\n",
    "f\"Entrenando modelo {model_traing} y aplicando FineTunning {model_finetunning}\""
   ]
  },
  {
   "cell_type": "code",
   "execution_count": 54,
   "id": "7e7f99be-1dae-4f88-bd11-f58f3396e21b",
   "metadata": {},
   "outputs": [
    {
     "name": "stdout",
     "output_type": "stream",
     "text": [
      " \n",
      "  Florida \n",
      " California  \n",
      " \n"
     ]
    },
    {
     "data": {
      "text/plain": [
       "['carlos', 'gmail.com']"
      ]
     },
     "execution_count": 54,
     "metadata": {},
     "output_type": "execute_result"
    }
   ],
   "source": [
    "address.replace(\"Florida\", \"California\")\n",
    "new_adress = \" \\n  Florida \\n California  \\n \"\n",
    "print(new_adress)\n",
    "address.strip(new_adress)\n",
    "\n",
    "address.split(\" \")\n",
    "\n",
    "email_primary = \"carlos@gmail.com\"\n",
    "email_primary.split(\"@\")"
   ]
  },
  {
   "cell_type": "code",
   "execution_count": 61,
   "id": "ed183d2c-f07e-44b5-8011-79174c611ab0",
   "metadata": {},
   "outputs": [
    {
     "name": "stdout",
     "output_type": "stream",
     "text": [
      "True\n",
      "False\n"
     ]
    }
   ],
   "source": [
    "# Tipo de dato Booleano\n",
    "\n",
    "new_user = True\n",
    "training_completed = False\n",
    "\n",
    "print(new_user)\n",
    "print(training_completed)\n",
    "\n",
    "type(new_user)\n",
    "type(training_completed)\n",
    "\n",
    "is_login = True\n"
   ]
  },
  {
   "cell_type": "code",
   "execution_count": null,
   "id": "5d8058c1-3622-4f87-bb44-aa25d54ca7b5",
   "metadata": {},
   "outputs": [],
   "source": []
  }
 ],
 "metadata": {
  "kernelspec": {
   "display_name": "Python 3 (ipykernel)",
   "language": "python",
   "name": "python3"
  },
  "language_info": {
   "codemirror_mode": {
    "name": "ipython",
    "version": 3
   },
   "file_extension": ".py",
   "mimetype": "text/x-python",
   "name": "python",
   "nbconvert_exporter": "python",
   "pygments_lexer": "ipython3",
   "version": "3.10.12"
  }
 },
 "nbformat": 4,
 "nbformat_minor": 5
}
